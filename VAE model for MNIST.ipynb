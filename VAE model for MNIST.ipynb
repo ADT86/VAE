{
 "cells": [
  {
   "cell_type": "code",
   "execution_count": 2,
   "id": "2c14d02e",
   "metadata": {},
   "outputs": [
    {
     "name": "stdout",
     "output_type": "stream",
     "text": [
      "Epoch 1/10\n",
      "1875/1875 [==============================] - 6s 3ms/step - loss: 185.4159 - val_loss: 168.3216\n",
      "Epoch 2/10\n",
      "1875/1875 [==============================] - 5s 3ms/step - loss: 164.2374 - val_loss: 160.6635\n",
      "Epoch 3/10\n",
      "1875/1875 [==============================] - 5s 3ms/step - loss: 158.3399 - val_loss: 157.0021\n",
      "Epoch 4/10\n",
      "1875/1875 [==============================] - 5s 3ms/step - loss: 155.3338 - val_loss: 154.9052\n",
      "Epoch 5/10\n",
      "1875/1875 [==============================] - 5s 3ms/step - loss: 153.4568 - val_loss: 153.7327\n",
      "Epoch 6/10\n",
      "1875/1875 [==============================] - 5s 3ms/step - loss: 151.9832 - val_loss: 151.5809\n",
      "Epoch 7/10\n",
      "1875/1875 [==============================] - 5s 3ms/step - loss: 150.7500 - val_loss: 150.9680\n",
      "Epoch 8/10\n",
      "1875/1875 [==============================] - 5s 3ms/step - loss: 149.8639 - val_loss: 149.3036\n",
      "Epoch 9/10\n",
      "1875/1875 [==============================] - 5s 3ms/step - loss: 148.8694 - val_loss: 149.7801\n",
      "Epoch 10/10\n",
      "1875/1875 [==============================] - 5s 3ms/step - loss: 148.2650 - val_loss: 149.1226\n"
     ]
    },
    {
     "data": {
      "text/plain": [
       "<keras.callbacks.History at 0x1b98ec215b0>"
      ]
     },
     "execution_count": 2,
     "metadata": {},
     "output_type": "execute_result"
    }
   ],
   "source": [
    "from keras import backend as K\n",
    "from keras import layers\n",
    "from keras import models\n",
    "from keras.datasets import mnist\n",
    "import numpy as np\n",
    "from keras import losses\n",
    "\n",
    "# Load the MNIST dataset\n",
    "(x_train, y_train), (x_test, y_test) = mnist.load_data()\n",
    "\n",
    "# Reshape and normalize the input images\n",
    "x_train = x_train.reshape(-1, 784).astype('float32') / 255\n",
    "x_test = x_test.reshape(-1, 784).astype('float32') / 255\n",
    "\n",
    "# Size of the latent space\n",
    "latent_dim = 2\n",
    "\n",
    "# Encoder\n",
    "inputs = layers.Input(shape=(784,))\n",
    "x = layers.Dense(64, activation='relu')(inputs)\n",
    "x = layers.Dense(64, activation='relu')(x)\n",
    "mu = layers.Dense(latent_dim)(x)\n",
    "sigma = layers.Dense(latent_dim)(x)\n",
    "\n",
    "# Reparametrization trick\n",
    "def sample_z(args):\n",
    "    mu, sigma = args\n",
    "    eps = K.random_normal(shape=(K.shape(mu)[0], latent_dim), mean=0, stddev=1)\n",
    "    return mu + K.exp(sigma / 2) * eps\n",
    "\n",
    "z = layers.Lambda(sample_z)([mu, sigma])\n",
    "\n",
    "# Decoder\n",
    "decoder_inputs = layers.Input(K.int_shape(z)[1:])\n",
    "x = layers.Dense(64, activation='relu')(decoder_inputs)\n",
    "x = layers.Dense(64, activation='relu')(x)\n",
    "outputs = layers.Dense(784, activation='sigmoid')(x)\n",
    "\n",
    "# Instantiate the encoder and decoder\n",
    "encoder = models.Model(inputs, [mu, sigma, z], name='encoder')\n",
    "decoder = models.Model(decoder_inputs, outputs, name='decoder')\n",
    "\n",
    "# VAE\n",
    "outputs = decoder(encoder(inputs)[2])\n",
    "vae = models.Model(inputs, outputs, name='vae')\n",
    "\n",
    "# Loss function\n",
    "reconstruction_loss = 784 * losses.binary_crossentropy(inputs, outputs)\n",
    "kl_loss = - 0.5 * K.sum(1 + sigma - K.square(mu) - K.exp(sigma), axis=-1)\n",
    "vae_loss = K.mean(reconstruction_loss + kl_loss)\n",
    "\n",
    "# Compile and train the VAE\n",
    "vae.add_loss(vae_loss)\n",
    "vae.compile(optimizer='adam')\n",
    "vae.fit(x_train, epochs=10, batch_size=32, validation_data=(x_test, None))\n",
    "\n"
   ]
  },
  {
   "cell_type": "code",
   "execution_count": 7,
   "id": "f8cce5bd",
   "metadata": {},
   "outputs": [
    {
     "data": {
      "image/png": "[encoded data removed]",
      "text/plain": [
       "<Figure size 432x288 with 1 Axes>"
      ]
     },
     "metadata": {
      "needs_background": "light"
     },
     "output_type": "display_data"
    },
    {
     "name": "stdout",
     "output_type": "stream",
     "text": [
      "1/1 [==============================] - 0s 32ms/step\n"
     ]
    },
    {
     "data": {
      "image/png": "[encoded data removed]",
      "text/plain": [
       "<Figure size 432x288 with 1 Axes>"
      ]
     },
     "metadata": {
      "needs_background": "light"
     },
     "output_type": "display_data"
    }
   ],
   "source": [
    "import matplotlib.pyplot as plt\n",
    "#original image\n",
    "output_img_orig = x_test[10]\n",
    "output_img_orig = output_img_orig.reshape(28, 28)\n",
    "output_img_orig = output_img_orig * 255\n",
    "plt.imshow(output_img_orig, cmap='gray')\n",
    "plt.show()\n",
    "\n",
    "#Image from VAE\n",
    "output_img = vae.predict(x_test[10].reshape(1, -1))\n",
    "output_img = output_img.reshape(28, 28)\n",
    "output_img = output_img * 255\n",
    "plt.imshow(output_img, cmap='gray')\n",
    "plt.show()"
   ]
  },
  {
   "cell_type": "code",
   "execution_count": null,
   "id": "76eb5b25",
   "metadata": {},
   "outputs": [],
   "source": []
  },
  {
   "cell_type": "code",
   "execution_count": null,
   "id": "0f5da896",
   "metadata": {},
   "outputs": [],
   "source": []
  },
  {
   "cell_type": "code",
   "execution_count": null,
   "id": "aabc1886",
   "metadata": {},
   "outputs": [],
   "source": []
  }
 ],
 "metadata": {
  "kernelspec": {
   "display_name": "Python 3 (ipykernel)",
   "language": "python",
   "name": "python3"
  },
  "language_info": {
   "codemirror_mode": {
    "name": "ipython",
    "version": 3
   },
   "file_extension": ".py",
   "mimetype": "text/x-python",
   "name": "python",
   "nbconvert_exporter": "python",
   "pygments_lexer": "ipython3",
   "version": "3.8.8"
  }
 },
 "nbformat": 4,
 "nbformat_minor": 5
}
